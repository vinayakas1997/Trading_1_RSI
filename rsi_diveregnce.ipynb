{
 "cells": [
  {
   "cell_type": "code",
   "execution_count": null,
   "metadata": {},
   "outputs": [],
   "source": []
  },
  {
   "cell_type": "code",
   "execution_count": 2,
   "metadata": {},
   "outputs": [],
   "source": [
    "import pandas as pd \n",
    "try:\n",
    "    df = pd.read_csv(\"EURUSD_2003-05-05_2024-10-16_4_hour.csv\")\n",
    "except Exception as e:\n",
    "    print(e)"
   ]
  },
  {
   "cell_type": "code",
   "execution_count": 3,
   "metadata": {},
   "outputs": [
    {
     "name": "stdout",
     "output_type": "stream",
     "text": [
      "Index(['Time', 'Open', 'High', 'Low', 'Close', 'Volume', 'vwap',\n",
      "       'transactions', 'otc', 'Date'],\n",
      "      dtype='object')\n",
      "229\n"
     ]
    }
   ],
   "source": [
    "print(df.columns)\n",
    "columns=['Date','Time', 'Open', 'High', 'Low', 'Close', 'Volume']\n",
    "df=df[columns]\n",
    "df = df[df['Volume'] != 0]  # remove rows with volume = 0\n",
    "df.reset_index(drop=True, inplace=True)\n",
    "print(len(df))"
   ]
  },
  {
   "cell_type": "code",
   "execution_count": 6,
   "metadata": {},
   "outputs": [
    {
     "name": "stdout",
     "output_type": "stream",
     "text": [
      "          Date      Time     Open     High      Low    Close  Volume  \\\n",
      "0   2022-07-24  16:00:00  1.02001  1.02107  1.02001  1.02107       4   \n",
      "1   2022-07-24  20:00:00  1.02071  1.02183  1.01980  1.01992    6169   \n",
      "2   2022-07-25  00:00:00  1.01992  1.02130  1.01807  1.02072   32595   \n",
      "3   2022-07-25  04:00:00  1.02072  1.02225  1.01850  1.01910   38189   \n",
      "4   2022-07-25  08:00:00  1.01924  1.02580  1.01787  1.02297   45453   \n",
      "5   2022-07-25  12:00:00  1.02300  1.02549  1.02032  1.02099   47508   \n",
      "6   2022-07-25  16:00:00  1.02098  1.02290  1.02050  1.02253   22432   \n",
      "7   2022-07-25  20:00:00  1.02253  1.02267  1.02137  1.02232   10405   \n",
      "8   2022-07-26  00:00:00  1.02231  1.02502  1.02210  1.02300   23927   \n",
      "9   2022-07-26  04:00:00  1.02302  1.02362  1.02080  1.02191   27308   \n",
      "10  2022-07-26  08:00:00  1.02192  1.02221  1.01240  1.01315   41817   \n",
      "11  2022-07-26  12:00:00  1.01314  1.01529  1.01110  1.01158   47780   \n",
      "12  2022-07-26  16:00:00  1.01156  1.01330  1.01060  1.01138   24222   \n",
      "13  2022-07-26  20:00:00  1.01140  1.01340  1.01095  1.01287   12528   \n",
      "14  2022-07-27  00:00:00  1.01287  1.01474  1.01270  1.01425   22773   \n",
      "15  2022-07-27  04:00:00  1.01425  1.01588  1.01270  1.01396   27781   \n",
      "16  2022-07-27  08:00:00  1.01395  1.01716  1.01320  1.01504   33629   \n",
      "17  2022-07-27  12:00:00  1.01508  1.01565  1.01047  1.01051   40630   \n",
      "18  2022-07-27  16:00:00  1.01050  1.02206  1.00960  1.02083   47732   \n",
      "19  2022-07-27  20:00:00  1.02083  1.02083  1.01866  1.02052   16922   \n",
      "\n",
      "          RSI  \n",
      "0         NaN  \n",
      "1         NaN  \n",
      "2         NaN  \n",
      "3         NaN  \n",
      "4         NaN  \n",
      "5         NaN  \n",
      "6         NaN  \n",
      "7         NaN  \n",
      "8         NaN  \n",
      "9         NaN  \n",
      "10        NaN  \n",
      "11        NaN  \n",
      "12        NaN  \n",
      "13        NaN  \n",
      "14  36.152539  \n",
      "15  35.508385  \n",
      "16  39.809575  \n",
      "17  30.593048  \n",
      "18  55.735274  \n",
      "19  55.089712  \n"
     ]
    }
   ],
   "source": [
    "import numpy as np\n",
    "import pandas_ta as ta \n",
    "\n",
    "df['RSI'] = ta.rsi(df['Close'], length=14)\n",
    "print(df.head(20))"
   ]
  },
  {
   "cell_type": "code",
   "execution_count": 11,
   "metadata": {},
   "outputs": [
    {
     "ename": "ValueError",
     "evalue": "Mime type rendering requires nbformat>=4.2.0 but it is not installed",
     "output_type": "error",
     "traceback": [
      "\u001b[1;31m---------------------------------------------------------------------------\u001b[0m",
      "\u001b[1;31mValueError\u001b[0m                                Traceback (most recent call last)",
      "Cell \u001b[1;32mIn[11], line 8\u001b[0m\n\u001b[0;32m      6\u001b[0m fig\u001b[38;5;241m.\u001b[39mappend_trace(go\u001b[38;5;241m.\u001b[39mScatter(x\u001b[38;5;241m=\u001b[39mdf\u001b[38;5;241m.\u001b[39mindex, y\u001b[38;5;241m=\u001b[39mdf[\u001b[38;5;124m'\u001b[39m\u001b[38;5;124mRSI\u001b[39m\u001b[38;5;124m'\u001b[39m], mode\u001b[38;5;241m=\u001b[39m\u001b[38;5;124m'\u001b[39m\u001b[38;5;124mlines\u001b[39m\u001b[38;5;124m'\u001b[39m, name\u001b[38;5;241m=\u001b[39m\u001b[38;5;124m'\u001b[39m\u001b[38;5;124mRSI\u001b[39m\u001b[38;5;124m'\u001b[39m), row\u001b[38;5;241m=\u001b[39m\u001b[38;5;241m2\u001b[39m, col\u001b[38;5;241m=\u001b[39m\u001b[38;5;241m1\u001b[39m)\n\u001b[0;32m      7\u001b[0m fig\u001b[38;5;241m.\u001b[39mupdate_layout(xaxis_rangeslider_visible \u001b[38;5;241m=\u001b[39m \u001b[38;5;28;01mFalse\u001b[39;00m)\n\u001b[1;32m----> 8\u001b[0m \u001b[43mfig\u001b[49m\u001b[38;5;241;43m.\u001b[39;49m\u001b[43mshow\u001b[49m\u001b[43m(\u001b[49m\u001b[43m)\u001b[49m\n",
      "File \u001b[1;32mc:\\Users\\owner\\OneDrive - Shizuoka University\\デスクトップ\\My_Python\\perfect\\RSI_Divergence\\venv\\Lib\\site-packages\\plotly\\basedatatypes.py:3410\u001b[0m, in \u001b[0;36mBaseFigure.show\u001b[1;34m(self, *args, **kwargs)\u001b[0m\n\u001b[0;32m   3377\u001b[0m \u001b[38;5;250m\u001b[39m\u001b[38;5;124;03m\"\"\"\u001b[39;00m\n\u001b[0;32m   3378\u001b[0m \u001b[38;5;124;03mShow a figure using either the default renderer(s) or the renderer(s)\u001b[39;00m\n\u001b[0;32m   3379\u001b[0m \u001b[38;5;124;03mspecified by the renderer argument\u001b[39;00m\n\u001b[1;32m   (...)\u001b[0m\n\u001b[0;32m   3406\u001b[0m \u001b[38;5;124;03mNone\u001b[39;00m\n\u001b[0;32m   3407\u001b[0m \u001b[38;5;124;03m\"\"\"\u001b[39;00m\n\u001b[0;32m   3408\u001b[0m \u001b[38;5;28;01mimport\u001b[39;00m \u001b[38;5;21;01mplotly\u001b[39;00m\u001b[38;5;21;01m.\u001b[39;00m\u001b[38;5;21;01mio\u001b[39;00m \u001b[38;5;28;01mas\u001b[39;00m \u001b[38;5;21;01mpio\u001b[39;00m\n\u001b[1;32m-> 3410\u001b[0m \u001b[38;5;28;01mreturn\u001b[39;00m \u001b[43mpio\u001b[49m\u001b[38;5;241;43m.\u001b[39;49m\u001b[43mshow\u001b[49m\u001b[43m(\u001b[49m\u001b[38;5;28;43mself\u001b[39;49m\u001b[43m,\u001b[49m\u001b[43m \u001b[49m\u001b[38;5;241;43m*\u001b[39;49m\u001b[43margs\u001b[49m\u001b[43m,\u001b[49m\u001b[43m \u001b[49m\u001b[38;5;241;43m*\u001b[39;49m\u001b[38;5;241;43m*\u001b[39;49m\u001b[43mkwargs\u001b[49m\u001b[43m)\u001b[49m\n",
      "File \u001b[1;32mc:\\Users\\owner\\OneDrive - Shizuoka University\\デスクトップ\\My_Python\\perfect\\RSI_Divergence\\venv\\Lib\\site-packages\\plotly\\io\\_renderers.py:394\u001b[0m, in \u001b[0;36mshow\u001b[1;34m(fig, renderer, validate, **kwargs)\u001b[0m\n\u001b[0;32m    389\u001b[0m         \u001b[38;5;28;01mraise\u001b[39;00m \u001b[38;5;167;01mValueError\u001b[39;00m(\n\u001b[0;32m    390\u001b[0m             \u001b[38;5;124m\"\u001b[39m\u001b[38;5;124mMime type rendering requires ipython but it is not installed\u001b[39m\u001b[38;5;124m\"\u001b[39m\n\u001b[0;32m    391\u001b[0m         )\n\u001b[0;32m    393\u001b[0m     \u001b[38;5;28;01mif\u001b[39;00m \u001b[38;5;129;01mnot\u001b[39;00m nbformat \u001b[38;5;129;01mor\u001b[39;00m Version(nbformat\u001b[38;5;241m.\u001b[39m__version__) \u001b[38;5;241m<\u001b[39m Version(\u001b[38;5;124m\"\u001b[39m\u001b[38;5;124m4.2.0\u001b[39m\u001b[38;5;124m\"\u001b[39m):\n\u001b[1;32m--> 394\u001b[0m         \u001b[38;5;28;01mraise\u001b[39;00m \u001b[38;5;167;01mValueError\u001b[39;00m(\n\u001b[0;32m    395\u001b[0m             \u001b[38;5;124m\"\u001b[39m\u001b[38;5;124mMime type rendering requires nbformat>=4.2.0 but it is not installed\u001b[39m\u001b[38;5;124m\"\u001b[39m\n\u001b[0;32m    396\u001b[0m         )\n\u001b[0;32m    398\u001b[0m     ipython_display\u001b[38;5;241m.\u001b[39mdisplay(bundle, raw\u001b[38;5;241m=\u001b[39m\u001b[38;5;28;01mTrue\u001b[39;00m)\n\u001b[0;32m    400\u001b[0m \u001b[38;5;66;03m# external renderers\u001b[39;00m\n",
      "\u001b[1;31mValueError\u001b[0m: Mime type rendering requires nbformat>=4.2.0 but it is not installed"
     ]
    }
   ],
   "source": [
    "import plotly.graph_objects as go \n",
    "from plotly.subplots import make_subplots\n",
    "\n",
    "fig = make_subplots(rows=2, cols=1,)\n",
    "fig.append_trace(go.Candlestick(x=df.index, open=df['Open'], high=df['High'], low=df['Low'], close=df['Close']), row=1, col=1)\n",
    "fig.append_trace(go.Scatter(x=df.index, y=df['RSI'], mode='lines', name='RSI'), row=2, col=1)\n",
    "fig.update_layout(xaxis_rangeslider_visible = False)\n",
    "fig.show()"
   ]
  }
 ],
 "metadata": {
  "kernelspec": {
   "display_name": "venv",
   "language": "python",
   "name": "python3"
  },
  "language_info": {
   "codemirror_mode": {
    "name": "ipython",
    "version": 3
   },
   "file_extension": ".py",
   "mimetype": "text/x-python",
   "name": "python",
   "nbconvert_exporter": "python",
   "pygments_lexer": "ipython3",
   "version": "3.11.7"
  }
 },
 "nbformat": 4,
 "nbformat_minor": 2
}
